{
 "cells": [
  {
   "cell_type": "code",
   "execution_count": 13,
   "metadata": {},
   "outputs": [],
   "source": [
    "import os\n",
    "\n",
    "def rename_files_in_directory(directory, old_word, new_word):\n",
    "    for root, dirs, files in os.walk(directory):\n",
    "        for file in files:\n",
    "            if old_word in file:\n",
    "                old_file_path = os.path.join(root, file)\n",
    "                new_file_name = file.replace(old_word, new_word)\n",
    "                new_file_path = os.path.join(root, new_file_name)\n",
    "                os.rename(old_file_path, new_file_path)\n",
    "\n",
    "        # join path và đệ quy qua các thư mục con\n",
    "        for dir in dirs:\n",
    "            sub_dir = os.path.join(root, dir)\n",
    "            rename_files_in_directory(sub_dir, old_word, new_word)\n",
    "\n",
    "# Sử dụng hàm\n",
    "image_directory = '../data/images/raw/'\n",
    "rename_files_in_directory(image_directory, 'nhựa', 'plastic')"
   ]
  }
 ],
 "metadata": {
  "kernelspec": {
   "display_name": "venv",
   "language": "python",
   "name": "python3"
  },
  "language_info": {
   "codemirror_mode": {
    "name": "ipython",
    "version": 3
   },
   "file_extension": ".py",
   "mimetype": "text/x-python",
   "name": "python",
   "nbconvert_exporter": "python",
   "pygments_lexer": "ipython3",
   "version": "3.10.5"
  }
 },
 "nbformat": 4,
 "nbformat_minor": 2
}
