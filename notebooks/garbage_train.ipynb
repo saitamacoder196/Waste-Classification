{
 "cells": [
  {
   "cell_type": "markdown",
   "metadata": {},
   "source": [
    "### Set Environment"
   ]
  },
  {
   "cell_type": "code",
   "execution_count": 1,
   "metadata": {},
   "outputs": [
    {
     "name": "stdout",
     "output_type": "stream",
     "text": [
      "Requirement already satisfied: ultralytics in d:\\projects\\waste classification\\venv\\lib\\site-packages (8.1.40)\n",
      "Requirement already satisfied: matplotlib>=3.3.0 in d:\\projects\\waste classification\\venv\\lib\\site-packages (from ultralytics) (3.8.3)\n",
      "Requirement already satisfied: pyyaml>=5.3.1 in d:\\projects\\waste classification\\venv\\lib\\site-packages (from ultralytics) (6.0.1)\n",
      "Requirement already satisfied: requests>=2.23.0 in d:\\projects\\waste classification\\venv\\lib\\site-packages (from ultralytics) (2.31.0)\n",
      "Requirement already satisfied: seaborn>=0.11.0 in d:\\projects\\waste classification\\venv\\lib\\site-packages (from ultralytics) (0.13.2)\n",
      "Requirement already satisfied: py-cpuinfo in d:\\projects\\waste classification\\venv\\lib\\site-packages (from ultralytics) (9.0.0)\n",
      "Requirement already satisfied: pandas>=1.1.4 in d:\\projects\\waste classification\\venv\\lib\\site-packages (from ultralytics) (2.2.1)\n",
      "Requirement already satisfied: pillow>=7.1.2 in d:\\projects\\waste classification\\venv\\lib\\site-packages (from ultralytics) (10.3.0)\n",
      "Requirement already satisfied: torchvision>=0.9.0 in d:\\projects\\waste classification\\venv\\lib\\site-packages (from ultralytics) (0.17.2)\n",
      "Requirement already satisfied: thop>=0.1.1 in d:\\projects\\waste classification\\venv\\lib\\site-packages (from ultralytics) (0.1.1.post2209072238)\n",
      "Requirement already satisfied: opencv-python>=4.6.0 in d:\\projects\\waste classification\\venv\\lib\\site-packages (from ultralytics) (4.9.0.80)\n",
      "Requirement already satisfied: tqdm>=4.64.0 in d:\\projects\\waste classification\\venv\\lib\\site-packages (from ultralytics) (4.66.2)\n",
      "Requirement already satisfied: scipy>=1.4.1 in d:\\projects\\waste classification\\venv\\lib\\site-packages (from ultralytics) (1.12.0)\n",
      "Requirement already satisfied: torch>=1.8.0 in d:\\projects\\waste classification\\venv\\lib\\site-packages (from ultralytics) (2.2.2)\n",
      "Requirement already satisfied: psutil in d:\\projects\\waste classification\\venv\\lib\\site-packages (from ultralytics) (5.9.8)\n",
      "Requirement already satisfied: contourpy>=1.0.1 in d:\\projects\\waste classification\\venv\\lib\\site-packages (from matplotlib>=3.3.0->ultralytics) (1.2.0)\n",
      "Requirement already satisfied: numpy<2,>=1.21 in d:\\projects\\waste classification\\venv\\lib\\site-packages (from matplotlib>=3.3.0->ultralytics) (1.26.4)\n",
      "Requirement already satisfied: kiwisolver>=1.3.1 in d:\\projects\\waste classification\\venv\\lib\\site-packages (from matplotlib>=3.3.0->ultralytics) (1.4.5)\n",
      "Requirement already satisfied: python-dateutil>=2.7 in d:\\projects\\waste classification\\venv\\lib\\site-packages (from matplotlib>=3.3.0->ultralytics) (2.9.0.post0)\n",
      "Requirement already satisfied: cycler>=0.10 in d:\\projects\\waste classification\\venv\\lib\\site-packages (from matplotlib>=3.3.0->ultralytics) (0.12.1)\n",
      "Requirement already satisfied: packaging>=20.0 in d:\\projects\\waste classification\\venv\\lib\\site-packages (from matplotlib>=3.3.0->ultralytics) (23.2)\n",
      "Requirement already satisfied: fonttools>=4.22.0 in d:\\projects\\waste classification\\venv\\lib\\site-packages (from matplotlib>=3.3.0->ultralytics) (4.50.0)\n",
      "Requirement already satisfied: pyparsing>=2.3.1 in d:\\projects\\waste classification\\venv\\lib\\site-packages (from matplotlib>=3.3.0->ultralytics) (3.1.2)\n",
      "Requirement already satisfied: tzdata>=2022.7 in d:\\projects\\waste classification\\venv\\lib\\site-packages (from pandas>=1.1.4->ultralytics) (2024.1)\n",
      "Requirement already satisfied: pytz>=2020.1 in d:\\projects\\waste classification\\venv\\lib\\site-packages (from pandas>=1.1.4->ultralytics) (2024.1)\n",
      "Requirement already satisfied: idna<4,>=2.5 in d:\\projects\\waste classification\\venv\\lib\\site-packages (from requests>=2.23.0->ultralytics) (3.6)\n",
      "Requirement already satisfied: charset-normalizer<4,>=2 in d:\\projects\\waste classification\\venv\\lib\\site-packages (from requests>=2.23.0->ultralytics) (3.3.2)\n",
      "Requirement already satisfied: certifi>=2017.4.17 in d:\\projects\\waste classification\\venv\\lib\\site-packages (from requests>=2.23.0->ultralytics) (2024.2.2)\n",
      "Requirement already satisfied: urllib3<3,>=1.21.1 in d:\\projects\\waste classification\\venv\\lib\\site-packages (from requests>=2.23.0->ultralytics) (2.2.1)\n",
      "Requirement already satisfied: jinja2 in d:\\projects\\waste classification\\venv\\lib\\site-packages (from torch>=1.8.0->ultralytics) (3.1.3)\n",
      "Requirement already satisfied: fsspec in d:\\projects\\waste classification\\venv\\lib\\site-packages (from torch>=1.8.0->ultralytics) (2024.3.1)\n",
      "Requirement already satisfied: sympy in d:\\projects\\waste classification\\venv\\lib\\site-packages (from torch>=1.8.0->ultralytics) (1.12)\n",
      "Requirement already satisfied: networkx in d:\\projects\\waste classification\\venv\\lib\\site-packages (from torch>=1.8.0->ultralytics) (3.2.1)\n",
      "Requirement already satisfied: typing-extensions>=4.8.0 in d:\\projects\\waste classification\\venv\\lib\\site-packages (from torch>=1.8.0->ultralytics) (4.10.0)\n",
      "Requirement already satisfied: filelock in d:\\projects\\waste classification\\venv\\lib\\site-packages (from torch>=1.8.0->ultralytics) (3.13.3)\n",
      "Requirement already satisfied: colorama in d:\\projects\\waste classification\\venv\\lib\\site-packages (from tqdm>=4.64.0->ultralytics) (0.4.6)\n",
      "Requirement already satisfied: six>=1.5 in d:\\projects\\waste classification\\venv\\lib\\site-packages (from python-dateutil>=2.7->matplotlib>=3.3.0->ultralytics) (1.16.0)\n",
      "Requirement already satisfied: MarkupSafe>=2.0 in d:\\projects\\waste classification\\venv\\lib\\site-packages (from jinja2->torch>=1.8.0->ultralytics) (2.1.5)\n",
      "Requirement already satisfied: mpmath>=0.19 in d:\\projects\\waste classification\\venv\\lib\\site-packages (from sympy->torch>=1.8.0->ultralytics) (1.3.0)\n"
     ]
    },
    {
     "name": "stderr",
     "output_type": "stream",
     "text": [
      "WARNING: You are using pip version 22.0.4; however, version 24.0 is available.\n",
      "You should consider upgrading via the 'D:\\Projects\\Waste Classification\\venv\\Scripts\\python.exe -m pip install --upgrade pip' command.\n"
     ]
    },
    {
     "name": "stdout",
     "output_type": "stream",
     "text": [
      "Requirement already satisfied: torch in d:\\projects\\waste classification\\venv\\lib\\site-packages (2.2.2)\n",
      "Requirement already satisfied: jinja2 in d:\\projects\\waste classification\\venv\\lib\\site-packages (from torch) (3.1.3)\n",
      "Requirement already satisfied: filelock in d:\\projects\\waste classification\\venv\\lib\\site-packages (from torch) (3.13.3)\n",
      "Requirement already satisfied: sympy in d:\\projects\\waste classification\\venv\\lib\\site-packages (from torch) (1.12)\n",
      "Requirement already satisfied: typing-extensions>=4.8.0 in d:\\projects\\waste classification\\venv\\lib\\site-packages (from torch) (4.10.0)\n",
      "Requirement already satisfied: fsspec in d:\\projects\\waste classification\\venv\\lib\\site-packages (from torch) (2024.3.1)\n",
      "Requirement already satisfied: networkx in d:\\projects\\waste classification\\venv\\lib\\site-packages (from torch) (3.2.1)\n",
      "Requirement already satisfied: MarkupSafe>=2.0 in d:\\projects\\waste classification\\venv\\lib\\site-packages (from jinja2->torch) (2.1.5)\n",
      "Requirement already satisfied: mpmath>=0.19 in d:\\projects\\waste classification\\venv\\lib\\site-packages (from sympy->torch) (1.3.0)\n"
     ]
    },
    {
     "name": "stderr",
     "output_type": "stream",
     "text": [
      "WARNING: You are using pip version 22.0.4; however, version 24.0 is available.\n",
      "You should consider upgrading via the 'D:\\Projects\\Waste Classification\\venv\\Scripts\\python.exe -m pip install --upgrade pip' command.\n"
     ]
    },
    {
     "name": "stdout",
     "output_type": "stream",
     "text": [
      "Collecting onnxruntime\n",
      "  Downloading onnxruntime-1.17.3-cp310-cp310-win_amd64.whl (5.6 MB)\n",
      "     ---------------------------------------- 5.6/5.6 MB 204.5 kB/s eta 0:00:00\n",
      "Requirement already satisfied: packaging in d:\\projects\\waste classification\\venv\\lib\\site-packages (from onnxruntime) (23.2)\n",
      "Requirement already satisfied: sympy in d:\\projects\\waste classification\\venv\\lib\\site-packages (from onnxruntime) (1.12)\n",
      "Requirement already satisfied: numpy>=1.21.6 in d:\\projects\\waste classification\\venv\\lib\\site-packages (from onnxruntime) (1.26.4)\n",
      "Requirement already satisfied: protobuf in d:\\projects\\waste classification\\venv\\lib\\site-packages (from onnxruntime) (4.25.3)\n",
      "Collecting coloredlogs\n",
      "  Using cached coloredlogs-15.0.1-py2.py3-none-any.whl (46 kB)\n",
      "Collecting flatbuffers\n",
      "  Using cached flatbuffers-24.3.25-py2.py3-none-any.whl (26 kB)\n",
      "Collecting humanfriendly>=9.1\n",
      "  Using cached humanfriendly-10.0-py2.py3-none-any.whl (86 kB)\n",
      "Requirement already satisfied: mpmath>=0.19 in d:\\projects\\waste classification\\venv\\lib\\site-packages (from sympy->onnxruntime) (1.3.0)\n",
      "Collecting pyreadline3\n",
      "  Using cached pyreadline3-3.4.1-py3-none-any.whl (95 kB)\n",
      "Installing collected packages: pyreadline3, flatbuffers, humanfriendly, coloredlogs, onnxruntime\n",
      "Successfully installed coloredlogs-15.0.1 flatbuffers-24.3.25 humanfriendly-10.0 onnxruntime-1.17.3 pyreadline3-3.4.1\n"
     ]
    },
    {
     "name": "stderr",
     "output_type": "stream",
     "text": [
      "WARNING: You are using pip version 22.0.4; however, version 24.0 is available.\n",
      "You should consider upgrading via the 'D:\\Projects\\Waste Classification\\venv\\Scripts\\python.exe -m pip install --upgrade pip' command.\n"
     ]
    }
   ],
   "source": [
    "!pip install ultralytics\n",
    "!pip install torch\n",
    "!pip install onnxruntime"
   ]
  },
  {
   "cell_type": "markdown",
   "metadata": {},
   "source": [
    "\n",
    "### Connect Google Drive and Move to Working Directory\n"
   ]
  },
  {
   "cell_type": "code",
   "execution_count": null,
   "metadata": {},
   "outputs": [],
   "source": [
    "import torch\n",
    "import onnxruntime"
   ]
  },
  {
   "cell_type": "markdown",
   "metadata": {},
   "source": [
    "#### The dataset is downloaded and extracted to the directory `HOME/data`"
   ]
  },
  {
   "cell_type": "code",
   "execution_count": null,
   "metadata": {},
   "outputs": [],
   "source": [
    "# !mkdir {HOME}/datasets\n",
    "# %cd {HOME}/datasets\n",
    "\n",
    "# !pip install roboflow --quiet\n",
    "\n",
    "# from roboflow import Roboflow\n",
    "# rf = Roboflow(api_key=\"HI42QRXkU9xSlq7DHhks\")\n",
    "# project = rf.workspace(\"ai-project-i3wje\").project(\"waste-detection-vqkjo\")\n",
    "# dataset = project.version(9).download(\"yolov8\")\n",
    "\n",
    "\n"
   ]
  },
  {
   "cell_type": "markdown",
   "metadata": {},
   "source": [
    "### Train"
   ]
  },
  {
   "cell_type": "code",
   "execution_count": null,
   "metadata": {},
   "outputs": [],
   "source": [
    "!pip install ultralytics\n",
    "!pip install onnx"
   ]
  },
  {
   "cell_type": "markdown",
   "metadata": {},
   "source": []
  },
  {
   "cell_type": "code",
   "execution_count": null,
   "metadata": {},
   "outputs": [],
   "source": [
    "# Di chuyển tới thư mục gốc\n",
    "\n",
    "# !yolo task=detect mode=train model=yolov8s.pt data={dataset.location}/data.yaml epochs=25 imgsz=640\n",
    "\n",
    "from ultralytics import YOLO\n",
    "import onnx\n",
    "\n",
    "# Tạo một mô hình mới\n",
    "model = YOLO('yolov8n.yaml')\n",
    "\n",
    "# Tải mô hình được huấn luyện trước để tránh việc huấn luyện lại từ đầu\n",
    "model = YOLO('yolov8n.pt')\n",
    "\n",
    "# Huấn luyện mô hình bằng cách sử dụng các tập dữ liệu của chúng tôi, với đường dẫn đến file data.yaml\n",
    "# Trong thư mục Datasets của chúng tôi và gán đường dẫn vào data=\n",
    "# Đề xuất sử dụng toàn bộ đường dẫn\n",
    "# epoch = 3 là số vòng lặp huấn luyện là 3\n",
    "path = '/content/datasets/waste-detection-9/data.yaml'\n",
    "experiment = 'yolov8_nano_bs8_300e'\n",
    "data_path = path\n",
    "n_epochs = 300\n",
    "bs = 8\n",
    "n_workers = bs\n",
    "gpu_id = 0\n",
    "verbose = True\n",
    "rng = 0\n",
    "validate = True\n",
    "patience = 0\n",
    "project = '../../logs/'\n",
    "result = model.train(data=data_path, epochs=n_epochs, batch_size=bs, workers=n_workers, device=gpu_id, verbose=verbose, project=project, name=experiment, exist_ok=True, imgsz=640, rect=True, resume=False, nosave=False, noval=False, evolve=False, bucket='', cache=None, image_weights=False, quad=False, linear_lr=False, label_smoothing=0.0, upload_dataset=False, bbox_interval=-1, save_period=-1, artifact_alias='latest', local_rank=-1, freeze=0, patience=patience, sync_bn=False, workers_upto=8, project_yml=None, multi_scale=False, mlc=False, single_cls=False, adam=False, sync_bn_bns=False, channel_last=False, save_dir=None, entity=None, verbose_step=100, save_dir='/content/drive/MyDrive/Colab Notebooks/ai-project/logs')\n",
    "\n",
    "# Kiểm tra mô hình bằng cách sử dụng tập dữ liệu validation đã chuẩn bị\n",
    "result = model.val()\n",
    "\n",
    "# Lưu mô hình với định dạng ONNX\n",
    "sucess = model.export(format='onnx')"
   ]
  },
  {
   "cell_type": "markdown",
   "metadata": {},
   "source": []
  },
  {
   "cell_type": "code",
   "execution_count": null,
   "metadata": {},
   "outputs": [],
   "source": [
    "import shutil\n",
    "\n",
    "# Source folder to be downloaded\n",
    "source_folder = '/content/datasets/runs/detect/train'\n",
    "\n",
    "# Destination ZIP file name\n",
    "zip_filename = '/content/train.zip'\n",
    "\n",
    "# Create a ZIP file of the source folder\n",
    "shutil.make_archive(zip_filename[:-4], 'zip', source_folder)\n",
    "\n",
    "# Move the ZIP file to the Colab root directory (optional)\n",
    "# shutil.move(zip_filename, '/content/')\n",
    "\n",
    "print(f'Zipped folder {source_folder} to {zip_filename}')\n",
    "\n",
    "# You can then download the ZIP file from Colab using this code:\n",
    "from google.colab import files\n",
    "files.download(zip_filename)\n"
   ]
  }
 ],
 "metadata": {
  "kernelspec": {
   "display_name": "venv",
   "language": "python",
   "name": "python3"
  },
  "language_info": {
   "codemirror_mode": {
    "name": "ipython",
    "version": 3
   },
   "file_extension": ".py",
   "mimetype": "text/x-python",
   "name": "python",
   "nbconvert_exporter": "python",
   "pygments_lexer": "ipython3",
   "version": "3.10.5"
  }
 },
 "nbformat": 4,
 "nbformat_minor": 2
}
