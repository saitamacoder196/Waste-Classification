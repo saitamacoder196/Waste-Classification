{
 "cells": [
  {
   "cell_type": "code",
   "execution_count": 53,
   "metadata": {},
   "outputs": [],
   "source": [
    "import serial\n",
    "import time\n",
    "\n",
    "# Thay thế 'COMx' bằng cổng COM mà Arduino của bạn được kết nối\n",
    "ser = serial.Serial('COM4', 9600, timeout=1)\n",
    "time.sleep(2) # Đợi cho Arduino reset sau khi mở cổng\n",
    "\n",
    "def send_command(command):\n",
    "    ser.write(command.encode())\n",
    "    time.sleep(0.5)  # Đợi Arduino xử lý lệnh\n",
    "\n",
    "# Gửi lệnh điều khiển servo\n",
    "def control_servo(servo_number, state):\n",
    "    # servo_number là số hiệu của servo (1, 2, 3,...)\n",
    "    # state là trạng thái 'open' hoặc 'close'\n",
    "    command = f\"servo,{servo_number},{state}\\n\"\n",
    "    send_command(command)\n",
    "\n",
    "# Gửi chuỗi để hiển thị trên LCD\n",
    "def display_on_lcd(message):\n",
    "    command = f\"lcd,{message}\\n\"\n",
    "    send_command(command)\n",
    "\n",
    "# Ví dụ sử dụng\n",
    "control_servo(1, 'open')  # Mở servo số 1\n",
    "time.sleep(2)  # Đợi 2 giây\n",
    "control_servo(1, 'close')  # Đóng servo số 1\n",
    "\n",
    "display_on_lcd(\"Hello, World!\")  # Hiển thị trên LCD\n",
    "\n",
    "ser.close()  # Đóng cổng serial khi hoàn tất\n",
    "\n",
    "\n",
    "\n"
   ]
  },
  {
   "cell_type": "code",
   "execution_count": 54,
   "metadata": {},
   "outputs": [],
   "source": [
    "send_to_lcd(\"VO CHUOI\")"
   ]
  },
  {
   "cell_type": "code",
   "execution_count": 55,
   "metadata": {},
   "outputs": [],
   "source": [
    "open_servo()"
   ]
  },
  {
   "cell_type": "code",
   "execution_count": 56,
   "metadata": {},
   "outputs": [],
   "source": [
    "close_servo()"
   ]
  }
 ],
 "metadata": {
  "kernelspec": {
   "display_name": "venv",
   "language": "python",
   "name": "python3"
  },
  "language_info": {
   "codemirror_mode": {
    "name": "ipython",
    "version": 3
   },
   "file_extension": ".py",
   "mimetype": "text/x-python",
   "name": "python",
   "nbconvert_exporter": "python",
   "pygments_lexer": "ipython3",
   "version": "3.10.5"
  }
 },
 "nbformat": 4,
 "nbformat_minor": 2
}
