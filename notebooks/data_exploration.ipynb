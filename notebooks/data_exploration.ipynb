{
 "cells": [
  {
   "cell_type": "code",
   "execution_count": null,
   "metadata": {},
   "outputs": [],
   "source": [
    "import os\n",
    "import tensorflow as tf\n",
    "from tensorflow.keras.preprocessing import image\n",
    "import numpy as np\n",
    "import matplotlib.pyplot as plt\n",
    "\n",
    "model_path = r'D:\\Projects\\WasteClassification\\Source\\WasteClassificationAndLitteringBehaviorDetection\\src\\models\\classification_model\\saved_model.h5'\n",
    "test_images_dir = r'D:\\Projects\\WasteClassification\\Source\\WasteClassificationAndLitteringBehaviorDetection\\data\\images\\test'\n",
    "\n",
    "model = tf.keras.models.load_model(model_path)\n",
    "labels = ['Vô cơ','Hữu cơ'] \n",
    "\n",
    "def predict_image(img_path, model):\n",
    "    img = image.load_img(img_path, target_size=(150, 150))\n",
    "    img_array = image.img_to_array(img)\n",
    "    img_array = np.expand_dims(img_array, axis=0)\n",
    "    predictions = model.predict(img_array)\n",
    "    return predictions\n",
    "\n",
    "def display_image(img_path, predictions):\n",
    "    img = image.load_img(img_path)\n",
    "    plt.imshow(img)\n",
    "    plt.axis('off') # Không hiển thị trục\n",
    "    \n",
    "    # Lấy chỉ số của dự đoán cao nhất\n",
    "    predicted_index = np.argmax(predictions)\n",
    "    predicted_label = labels[predicted_index]\n",
    "    \n",
    "    # Hiển thị nhãn lên ảnh\n",
    "    plt.text(10, -10, predicted_label, color='white', fontsize=12, backgroundcolor='black')\n",
    "    \n",
    "    plt.show()\n",
    "\n",
    "# Duyệt qua tất cả các file trong thư mục test và các thư mục con của nó\n",
    "for root, dirs, files in os.walk(test_images_dir):\n",
    "    for img_name in files:\n",
    "        img_path = os.path.join(root, img_name)\n",
    "        # Kiểm tra nếu là file hình ảnh dựa trên đuôi file\n",
    "        if img_path.lower().endswith(('.png', '.jpg', '.jpeg')):\n",
    "            predictions = predict_image(img_path, model)\n",
    "            print(f\"Predictions for {img_path}: {predictions}\")\n",
    "            display_image(img_path, predictions) # Cập nhật để hiển thị nhãn\n",
    "            input(\"Press Enter to continue to the next image...\") # Dừng chương trình và chờ nhấn Enter\n",
    "        else:\n",
    "            print(f\"Skipping file: {img_path}\")\n"
   ]
  }
 ],
 "metadata": {
  "kernelspec": {
   "display_name": "Python 3",
   "language": "python",
   "name": "python3"
  },
  "language_info": {
   "codemirror_mode": {
    "name": "ipython",
    "version": 3
   },
   "file_extension": ".py",
   "mimetype": "text/x-python",
   "name": "python",
   "nbconvert_exporter": "python",
   "pygments_lexer": "ipython3",
   "version": "3.10.5"
  }
 },
 "nbformat": 4,
 "nbformat_minor": 2
}
