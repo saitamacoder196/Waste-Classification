{
 "cells": [
  {
   "cell_type": "code",
   "execution_count": 2,
   "metadata": {},
   "outputs": [],
   "source": [
    "import os\n",
    "from pathlib import Path\n",
    "\n",
    "# Định nghĩa đường dẫn đến thư mục\n",
    "raw_dir = Path('../data/images/processed/')\n",
    "\n",
    "# Khởi tạo danh sách để lưu tên hình ảnh và nhãn\n",
    "image_labels = []\n",
    "\n",
    "# Duyệt qua tất cả các thư mục con trong thư mục raw\n",
    "for subfolder in raw_dir.iterdir():\n",
    "    if subfolder.is_dir():\n",
    "        # Duyệt qua tất cả các file trong thư mục con\n",
    "        for image_path in subfolder.iterdir():\n",
    "            if image_path.is_file():\n",
    "                # Thêm tên hình ảnh và nhãn vào danh sách\n",
    "                image_labels.append((image_path.name, subfolder.name))\n",
    "\n",
    "# Ghi thông tin vào file\n",
    "with open('../labels/image_labels.txt', 'w') as f:\n",
    "    # Ghi tổng số hình ảnh\n",
    "    f.write(f\"{len(image_labels)}\\n\")\n",
    "    # Ghi header\n",
    "    f.write(\"image_name,label\\n\")\n",
    "    # Ghi tên hình ảnh và nhãn\n",
    "    for image_name, label in image_labels:\n",
    "        f.write(f\"{image_name},{label}\\n\")"
   ]
  }
 ],
 "metadata": {
  "kernelspec": {
   "display_name": "venv",
   "language": "python",
   "name": "python3"
  },
  "language_info": {
   "codemirror_mode": {
    "name": "ipython",
    "version": 3
   },
   "file_extension": ".py",
   "mimetype": "text/x-python",
   "name": "python",
   "nbconvert_exporter": "python",
   "pygments_lexer": "ipython3",
   "version": "3.10.5"
  }
 },
 "nbformat": 4,
 "nbformat_minor": 2
}
